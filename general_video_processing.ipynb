{
 "cells": [
  {
   "cell_type": "markdown",
   "metadata": {},
   "source": [
    "# Step 0: Getting everything ready"
   ]
  },
  {
   "cell_type": "markdown",
   "metadata": {},
   "source": [
    " We need to create the right folders"
   ]
  },
  {
   "cell_type": "code",
   "execution_count": null,
   "metadata": {},
   "outputs": [],
   "source": [
    "import os\n",
    "import cv2\n",
    "general_videos_folder = \"./videos/\"\n",
    "inputs_subfolder = \"inputs/\"\n",
    "audio_subfolder = \"audios/\"\n",
    "frames_subfolder = \"frames/\"\n",
    "aligned_frames_subfolder = \"aligned_frames/\"\n",
    "processed_frames_subfolder = \"processed_frames/\"\n",
    "no_sound_videos_subfolder = \"no_sound_videos/\"\n",
    "final_videos_subfolder = \"final_videos/\"\n",
    "os.makedirs(general_videos_folder, exist_ok = True)\n",
    "os.makedirs(f\"{general_videos_folder}{inputs_subfolder}\", exist_ok = True)\n",
    "os.makedirs(f\"{general_videos_folder}{audio_subfolder}\", exist_ok = True)\n",
    "os.makedirs(f\"{general_videos_folder}{frames_subfolder}\", exist_ok = True)\n",
    "os.makedirs(f\"{general_videos_folder}{processed_frames_subfolder}\", exist_ok = True)\n",
    "os.makedirs(f\"{general_videos_folder}{no_sound_videos_subfolder}\", exist_ok = True)\n",
    "os.makedirs(f\"{general_videos_folder}{final_videos_subfolder}\", exist_ok = True)\n",
    "os.makedirs(f\"{general_videos_folder}{aligned_frames_subfolder}\", exist_ok = True)"
   ]
  },
  {
   "cell_type": "markdown",
   "metadata": {},
   "source": [
    "This will be the name of the video we are trying to process"
   ]
  },
  {
   "cell_type": "code",
   "execution_count": null,
   "metadata": {},
   "outputs": [],
   "source": [
    "filename = \"news_base\""
   ]
  },
  {
   "cell_type": "markdown",
   "metadata": {},
   "source": [
    "# Step 1: Break the video into multiple frames"
   ]
  },
  {
   "cell_type": "markdown",
   "metadata": {},
   "source": [
    "For this we use the cv2 library. This code is based on the [following link](https://www.geeksforgeeks.org/python-program-extract-frames-using-opencv/)"
   ]
  },
  {
   "cell_type": "code",
   "execution_count": null,
   "metadata": {},
   "outputs": [],
   "source": [
    "def video_to_frame(filename):\n",
    "  os.makedirs(f\"{general_videos_folder}{frames_subfolder}{filename}/\", exist_ok = True)\n",
    "  get_frame_path = lambda part: f\"{general_videos_folder}{frames_subfolder}{filename}/frame-{part}.jpg\" \n",
    "  vid_obj = cv2.VideoCapture(f\"{general_videos_folder}{inputs_subfolder}{filename}.mp4\")\n",
    "  count = 0\n",
    "  print(f\"Total # of frames according to code {int(vid_obj.get(cv2.CAP_PROP_FRAME_COUNT))}\")\n",
    "  fps = vid_obj.get(cv2.CAP_PROP_FPS)\n",
    "  print(f\"Frames per second = {fps}\")\n",
    "  print(\"Now reading the frames... [This might take a while]\")\n",
    "  while True: \n",
    "    success, image = vid_obj.read() \n",
    "    if not success:\n",
    "      break\n",
    "    # Saves the frames with frame-count \n",
    "    cv2.imwrite(get_frame_path(count), image) \n",
    "    count += 1\n",
    "  print(f\"Total # frames accroding to loop = {count}\")\n",
    "  print(f\"Succesfully wrote all the frames in the folder {general_videos_folder}{frames_subfolder}{filename}/\")\n",
    "  return fps"
   ]
  },
  {
   "cell_type": "markdown",
   "metadata": {},
   "source": [
    "Apply function to our video"
   ]
  },
  {
   "cell_type": "code",
   "execution_count": null,
   "metadata": {},
   "outputs": [],
   "source": [
    "video_fps = video_to_frame(filename) #this function return the fps of such video\n",
    "print(f\"FPS returned from function: {video_fps}\")"
   ]
  },
  {
   "cell_type": "markdown",
   "metadata": {},
   "source": [
    "# Step 2: Updating every frame"
   ]
  },
  {
   "cell_type": "markdown",
   "metadata": {},
   "source": [
    "The code from this repo assumes you are using **tensorflow-gpu:1.14.0**, so let's uninstall any previous tensorflow instance you may have"
   ]
  },
  {
   "cell_type": "code",
   "execution_count": null,
   "metadata": {},
   "outputs": [],
   "source": [
    "!pip uninstall tensorflow"
   ]
  },
  {
   "cell_type": "markdown",
   "metadata": {},
   "source": [
    "Now let's install the necessary tensorflow"
   ]
  },
  {
   "cell_type": "code",
   "execution_count": null,
   "metadata": {},
   "outputs": [],
   "source": [
    "!pip install tensorflow-gpu==1.14"
   ]
  },
  {
   "cell_type": "code",
   "execution_count": null,
   "metadata": {},
   "outputs": [],
   "source": [
    "import tensorflow as tf\n",
    "\n",
    "device_name = tf.test.gpu_device_name()\n",
    "if device_name != '/device:GPU:0':\n",
    "  raise SystemError('GPU device not found')\n",
    "print('Found GPU at: {}'.format(device_name))"
   ]
  },
  {
   "cell_type": "markdown",
   "metadata": {},
   "source": [
    "Making sure that the tensorflow is the correct (1.14.0)"
   ]
  },
  {
   "cell_type": "code",
   "execution_count": null,
   "metadata": {},
   "outputs": [],
   "source": [
    "print(tf.__version__) #Making sure the tensorflow version is correct"
   ]
  },
  {
   "cell_type": "markdown",
   "metadata": {},
   "source": [
    "Importing necessary libraries"
   ]
  },
  {
   "cell_type": "code",
   "execution_count": null,
   "metadata": {},
   "outputs": [],
   "source": [
    "import os\n",
    "import pickle\n",
    "import PIL.Image\n",
    "import numpy as np\n",
    "import dnnlib\n",
    "import dnnlib.tflib as tflib\n",
    "import config\n",
    "from encoder.generator_model import Generator\n",
    "import matplotlib.pyplot as plt"
   ]
  },
  {
   "cell_type": "code",
   "execution_count": null,
   "metadata": {},
   "outputs": [],
   "source": [
    "#URL_FFHQ = 'https://drive.google.com/uc?id=1MEGjdvVpUsu1jB4zrXZN7Y4kBBOzizDQ'\n",
    "#URL_FFHQ = 'https://drive.google.com/uc?id=1MEGjdvVpUsu1jB4zrXZN7Y4kBBOzizDQ'\n",
    "URL_FFHQ = 'https://drive.google.com/uc?id=1PrjiBIXQ-tEa3l3vAtBR7FLi-n9WnVB8'\n",
    "tflib.init_tf()\n",
    "with dnnlib.util.open_url(URL_FFHQ, cache_dir=config.cache_dir) as f:\n",
    "    generator_network, discriminator_network, Gs_network = pickle.load(f)\n",
    "generator = Generator(Gs_network, batch_size=1, randomize_noise=False)"
   ]
  },
  {
   "cell_type": "markdown",
   "metadata": {},
   "source": [
    "**Define some useful functions**"
   ]
  },
  {
   "cell_type": "code",
   "execution_count": null,
   "metadata": {},
   "outputs": [],
   "source": [
    "def generate_image(latent_vector):\n",
    "    latent_vector = latent_vector.reshape((1, 18, 512))\n",
    "    generator.set_dlatents(latent_vector)\n",
    "    img_array = generator.generate_images()[0]\n",
    "    img = PIL.Image.fromarray(img_array, 'RGB')\n",
    "    return img.resize((256, 256))\n",
    "\n",
    "def move_and_show(latent_vector, direction, coeffs):\n",
    "    fig,ax = plt.subplots(1, len(coeffs), figsize=(15, 10), dpi=80)\n",
    "    for i, coeff in enumerate(coeffs):\n",
    "        new_latent_vector = latent_vector.copy()\n",
    "        new_latent_vector[:8] = (latent_vector + coeff*direction)[:8]\n",
    "        ax[i].imshow(generate_image(new_latent_vector))\n",
    "        ax[i].set_title('Coeff: %0.1f' % coeff)\n",
    "    [x.axis('off') for x in ax]\n",
    "    plt.show()\n",
    "\n",
    "def save_modified_image(latent_vector, direction, coeff, output):\n",
    "    new_latent_vector = latent_vector.copy()\n",
    "    new_latent_vector[:8] = (latent_vector + coeff*direction)[:8]\n",
    "    img = generate_image(new_latent_vector)\n",
    "    img = img.save(output) "
   ]
  },
  {
   "cell_type": "code",
   "execution_count": null,
   "metadata": {},
   "outputs": [],
   "source": []
  },
  {
   "cell_type": "markdown",
   "metadata": {},
   "source": [
    "### Now we are first getting the aligned images out of every frame"
   ]
  },
  {
   "cell_type": "code",
   "execution_count": null,
   "metadata": {},
   "outputs": [],
   "source": [
    "os.environ['FRAMES_FOLDER'] =  f\"{general_videos_folder}{frames_subfolder}{filename}\"\n",
    "os.environ['ALIGNED_FOLDER'] = f\"{general_videos_folder}{aligned_frames_subfolder}{filename}\"\n",
    "#need to make sure that the subfolder {filename}/ exists"
   ]
  },
  {
   "cell_type": "code",
   "execution_count": null,
   "metadata": {},
   "outputs": [],
   "source": [
    "!python align_images.py $FRAMES_FOLDER $ALIGNED_FOLDER  "
   ]
  }
 ],
 "metadata": {
  "kernelspec": {
   "display_name": "Python 3",
   "language": "python",
   "name": "python3"
  },
  "language_info": {
   "codemirror_mode": {
    "name": "ipython",
    "version": 3
   },
   "file_extension": ".py",
   "mimetype": "text/x-python",
   "name": "python",
   "nbconvert_exporter": "python",
   "pygments_lexer": "ipython3",
   "version": "3.7.4"
  }
 },
 "nbformat": 4,
 "nbformat_minor": 2
}
